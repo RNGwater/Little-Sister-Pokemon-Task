{
 "cells": [
  {
   "cell_type": "markdown",
   "metadata": {
    "id": "5yyPLQMwaVZc"
   },
   "source": [
    "# **Creating a Pokemon dataset using an API**"
   ]
  },
  {
   "cell_type": "markdown",
   "metadata": {
    "id": "QbpiUYPo4rG4"
   },
   "source": [
    "### **Step 1: Setting up.**"
   ]
  },
  {
   "cell_type": "code",
   "execution_count": 1,
   "metadata": {
    "id": "rq8gB4HZ43qf"
   },
   "outputs": [],
   "source": [
    "# Importing Libraries.\n",
    "import requests as rq\n",
    "import pandas as pd\n",
    "import numpy as np\n",
    "\n",
    "# Used to easily communicate wiht API.\n",
    "api_url = 'https://pokeapi.co/api/v2/'\n",
    "\n",
    "def api_response(endpoint):\n",
    "  return rq.get(api_url + f'{endpoint}').json()"
   ]
  },
  {
   "cell_type": "markdown",
   "metadata": {
    "id": "OSeA2yJngQgV"
   },
   "source": [
    "### **Step 2: Gathering desired data.**"
   ]
  },
  {
   "cell_type": "markdown",
   "metadata": {
    "id": "caZuvMJJeS5r"
   },
   "source": [
    "##### Since API's have limits on the amount of requests you can make within a certain time period, we will need to limit the amount of pokemon data we extract, and if necesarry add time delays between each request. This will also make testing the data for accuracy much faster, since we can can load in small chunks of data at a time. For this reason we will be seperating the reauest by pokemon generation."
   ]
  },
  {
   "cell_type": "markdown",
   "metadata": {
    "id": "0ibmWKZOjxj5"
   },
   "source": [
    "##### Locating Pokemon names information."
   ]
  },
  {
   "cell_type": "code",
   "execution_count": 2,
   "metadata": {
    "id": "2IvtqplTrB-e"
   },
   "outputs": [],
   "source": [
    "# Enter a pokemon generation number and get list of pokedex ID's of all pokemon in that generation.\n",
    "def pokemon_gen_range(generation):\n",
    "  gen_dict = {\n",
    "    'gen_1': list(range(1,152)),\n",
    "    'gen_2': list(range(152,252)),\n",
    "    'gen_3': list(range(252,387)),\n",
    "    'gen_4': list(range(387,494)),\n",
    "    'gen_5': list(range(494,650)),\n",
    "    'gen_6': list(range(650,722)),\n",
    "    'gen_7': list(range(722,810)),\n",
    "    'gen_8': list(range(810,899))\n",
    "  }\n",
    "  return gen_dict[f'gen_{generation}']\n",
    "\n",
    "# Generates a list of information based on one resource and one endpoint.\n",
    "def list_generator(endpoint, resource, gen):\n",
    "  temp_list = []\n",
    "  for i in pokemon_gen_range(gen):\n",
    "    temp_list.append(api_response(f'{endpoint}/{i}')[f'{resource}'])\n",
    "  return temp_list"
   ]
  },
  {
   "cell_type": "markdown",
   "metadata": {
    "id": "8Ra8pLAOgafy"
   },
   "source": [
    "##### Request Pokemon names. (run once)"
   ]
  },
  {
   "cell_type": "code",
   "execution_count": 3,
   "metadata": {
    "id": "R36TTFfftUwE"
   },
   "outputs": [],
   "source": [
    "# using our previous function to make a names lists for every pokemon generation seperately\n",
    "gen1_names = list_generator('pokemon', 'name', 1)\n",
    "gen2_names = list_generator('pokemon', 'name', 2)\n",
    "gen3_names = list_generator('pokemon', 'name', 3)\n",
    "gen4_names = list_generator('pokemon', 'name', 4)\n",
    "gen5_names = list_generator('pokemon', 'name', 5)\n",
    "gen6_names = list_generator('pokemon', 'name', 6)\n",
    "gen7_names = list_generator('pokemon', 'name', 7)\n",
    "gen8_names = list_generator('pokemon', 'name', 8)"
   ]
  },
  {
   "cell_type": "code",
   "execution_count": 4,
   "metadata": {
    "id": "fQ0VIHFRg19M"
   },
   "outputs": [],
   "source": [
    "# List of all pokemon names\n",
    "poke_names = gen1_names + gen2_names + gen3_names + gen4_names + gen5_names + gen6_names + gen7_names + gen8_names"
   ]
  },
  {
   "cell_type": "markdown",
   "metadata": {
    "id": "PMWULLpHj7ie"
   },
   "source": [
    "##### Locating Pokemon abilities information."
   ]
  },
  {
   "cell_type": "code",
   "execution_count": 5,
   "metadata": {
    "id": "bhYrBbfM5m5x"
   },
   "outputs": [],
   "source": [
    "# Enter a pokemon generation, and get ordered lists of all the pokemon's abilites for that generation.\n",
    "def ability_list_generator(generation):\n",
    "  ability_1 = []\n",
    "  ability_2 = []\n",
    "  hidden_ability = []\n",
    "  for i in pokemon_gen_range(generation):\n",
    "    pokemon_number = i\n",
    "    data = api_response(f'pokemon/{pokemon_number}/')\n",
    "    abil_dict_length = len(api_response(f'pokemon/{pokemon_number}')['abilities'])\n",
    "    ability_1.append(data['abilities'][0]['ability']['name'])\n",
    "    if abil_dict_length == 1:\n",
    "      ability_2.append(0)\n",
    "      hidden_ability.append(0)\n",
    "    elif abil_dict_length == 2 and data['abilities'][1]['is_hidden'] == True:\n",
    "      hidden_ability.append(data['abilities'][1]['ability']['name'])\n",
    "      ability_2.append(0)\n",
    "    elif abil_dict_length == 2 and data['abilities'][1]['is_hidden'] == False:\n",
    "      ability_2.append(data['abilities'][1]['ability']['name'])\n",
    "      hidden_ability.append(0)\n",
    "    elif abil_dict_length == 3:\n",
    "      ability_2.append(data['abilities'][1]['ability']['name'])\n",
    "      hidden_ability.append(data['abilities'][2]['ability']['name'])\n",
    "  return ability_1, ability_2, hidden_ability"
   ]
  },
  {
   "cell_type": "markdown",
   "metadata": {
    "id": "QrMjg5Hch_ro"
   },
   "source": [
    "##### Request Pokemon abilities. (run once)"
   ]
  },
  {
   "cell_type": "code",
   "execution_count": 6,
   "metadata": {
    "colab": {
     "base_uri": "https://localhost:8080/",
     "height": 395
    },
    "id": "Ix44MERXpnK7",
    "outputId": "de07185c-04bd-4744-8a9a-2fa042ac855b"
   },
   "outputs": [],
   "source": [
    "# Using our previous function to make abilities lists for every pokemon in every generation seperately.\n",
    "gen1_abilities = ability_list_generator(1)\n",
    "gen2_abilities = ability_list_generator(2)\n",
    "gen3_abilities = ability_list_generator(3)\n",
    "gen4_abilities = ability_list_generator(4)\n",
    "gen5_abilities = ability_list_generator(5)\n",
    "gen6_abilities = ability_list_generator(6)\n",
    "gen7_abilities = ability_list_generator(7)\n",
    "gen8_abilities = ability_list_generator(8)"
   ]
  },
  {
   "cell_type": "code",
   "execution_count": 7,
   "metadata": {
    "id": "Oj9s3g_XrOuo"
   },
   "outputs": [],
   "source": [
    "# List of all abilites for all pokemon in every generation.\n",
    "ability_1 = gen1_abilities[0] + gen2_abilities[0] + gen3_abilities[0] + gen4_abilities[0] + gen5_abilities[0] + gen6_abilities[0] + gen7_abilities[0] + gen8_abilities[0]\n",
    "ability_2 = gen1_abilities[1] + gen2_abilities[1] + gen3_abilities[1] + gen4_abilities[1] + gen5_abilities[1] + gen6_abilities[1] + gen7_abilities[1] + gen8_abilities[1]\n",
    "hidden_ability = gen1_abilities[2] + gen2_abilities[2] + gen3_abilities[2] + gen4_abilities[2] + gen5_abilities[2] + gen6_abilities[2] + gen7_abilities[2] + gen8_abilities[2]"
   ]
  },
  {
   "cell_type": "markdown",
   "metadata": {
    "id": "uiYpG5x_kKHD"
   },
   "source": [
    "##### Locating Pokemon types information."
   ]
  },
  {
   "cell_type": "code",
   "execution_count": 8,
   "metadata": {
    "id": "f-86sDO9USvE"
   },
   "outputs": [],
   "source": [
    "# Enter Pokemon generation, get back ordered lists of all the pokemon's types for that generation.\n",
    "def type_list_generator(generation):\n",
    "  type_1 = []\n",
    "  type_2 = []\n",
    "  for i in pokemon_gen_range(generation):\n",
    "    pokemon_number = i\n",
    "    type_dict_length = len(api_response(f'pokemon/{pokemon_number}/')['types'])\n",
    "    type_1.append(api_response(f'pokemon/{pokemon_number}/')['types'][0]['type']['name'])\n",
    "    if type_dict_length == 1:\n",
    "      type_2.append(0)\n",
    "    elif type_dict_length == 2:\n",
    "      type_2.append(api_response(f'pokemon/{pokemon_number}/')['types'][1]['type']['name'])\n",
    "  return type_1, type_2"
   ]
  },
  {
   "cell_type": "markdown",
   "metadata": {
    "id": "wdHs-m-skTKZ"
   },
   "source": [
    "##### Request Pokemon types. (run once)"
   ]
  },
  {
   "cell_type": "code",
   "execution_count": 9,
   "metadata": {
    "id": "bC_hhQ9utvjB"
   },
   "outputs": [],
   "source": [
    "# Using our previous function to make types lists for every pokemon in every generation seperately.\n",
    "gen1_types = type_list_generator(1)\n",
    "gen2_types = type_list_generator(2)\n",
    "gen3_types = type_list_generator(3)\n",
    "gen4_types = type_list_generator(4)\n",
    "gen5_types = type_list_generator(5)\n",
    "gen6_types = type_list_generator(6)\n",
    "gen7_types = type_list_generator(7)\n",
    "gen8_types = type_list_generator(8)"
   ]
  },
  {
   "cell_type": "code",
   "execution_count": 10,
   "metadata": {
    "id": "QWOxfjmBt5Wv"
   },
   "outputs": [],
   "source": [
    "# List of all pokemon types for all pokemon in every generation.\n",
    "type_1 = gen1_types[0] + gen2_types[0] + gen3_types[0] + gen4_types[0] + gen5_types[0] + gen6_types[0] + gen7_types[0] + gen8_types[0]\n",
    "type_2 = gen1_types[1] + gen2_types[1] + gen3_types[1] + gen4_types[1] + gen5_types[1] + gen6_types[1] + gen7_types[1] + gen8_types[1]"
   ]
  },
  {
   "cell_type": "markdown",
   "metadata": {
    "id": "5l7DOl8omHp2"
   },
   "source": [
    "##### Locating Pokemon stats information."
   ]
  },
  {
   "cell_type": "code",
   "execution_count": 11,
   "metadata": {
    "id": "JT0hdteDf_Nf"
   },
   "outputs": [],
   "source": [
    "# Enter a stat index and pokemon generation, and get back a list of that stats values for all pokemon in that generation\n",
    "# Stat index: HP ==> 0, Attack ==> 1, Defense ==> 2, Special Attack ==> 3, Special Defense ==> 4, Speed ==> 5\n",
    "def stat_list_generator(stat_index, generation):\n",
    "  temp_list = []\n",
    "  for i in pokemon_gen_range(generation):\n",
    "    pokemon_number = i\n",
    "    temp_data = api_response(f'pokemon/{pokemon_number}/')\n",
    "    temp_list.append(temp_data['stats'][stat_index]['base_stat'])\n",
    "  return temp_list"
   ]
  },
  {
   "cell_type": "markdown",
   "metadata": {
    "id": "0o7pSOHxnr3_"
   },
   "source": [
    "##### Request HP information. (run once)"
   ]
  },
  {
   "cell_type": "code",
   "execution_count": 12,
   "metadata": {
    "id": "_qgmEPC4lMN3"
   },
   "outputs": [],
   "source": [
    "# Using a previous function to make HP lists for every pokemon in every generation seperately.\n",
    "gen1_HP_list = stat_list_generator(0, 1)\n",
    "gen2_HP_list = stat_list_generator(0, 2)\n",
    "gen3_HP_list = stat_list_generator(0, 3)\n",
    "gen4_HP_list = stat_list_generator(0, 4)\n",
    "gen5_HP_list = stat_list_generator(0, 5)\n",
    "gen6_HP_list = stat_list_generator(0, 6)\n",
    "gen7_HP_list = stat_list_generator(0, 7)\n",
    "gen8_HP_list = stat_list_generator(0, 8)"
   ]
  },
  {
   "cell_type": "code",
   "execution_count": 13,
   "metadata": {
    "id": "3EXsyUWazh5x"
   },
   "outputs": [],
   "source": [
    "# List of HP values for all pokemon in every generation.\n",
    "HP_list = gen1_HP_list + gen2_HP_list + gen3_HP_list + gen4_HP_list + gen5_HP_list + gen6_HP_list + gen7_HP_list + gen8_HP_list"
   ]
  },
  {
   "cell_type": "markdown",
   "metadata": {
    "id": "0Nwg8m8toAzY"
   },
   "source": [
    "##### Request Attack information. (run once)"
   ]
  },
  {
   "cell_type": "code",
   "execution_count": 14,
   "metadata": {
    "id": "z-6XACqAlrxY"
   },
   "outputs": [],
   "source": [
    "# Using a previous function to make Attack lists for every pokemon in every generation seperately.\n",
    "gen1_atk_list = stat_list_generator(1, 1)\n",
    "gen2_atk_list = stat_list_generator(1, 2)\n",
    "gen3_atk_list = stat_list_generator(1, 3)\n",
    "gen4_atk_list = stat_list_generator(1, 4)\n",
    "gen5_atk_list = stat_list_generator(1, 5)\n",
    "gen6_atk_list = stat_list_generator(1, 6)\n",
    "gen7_atk_list = stat_list_generator(1, 7)\n",
    "gen8_atk_list = stat_list_generator(1, 8)"
   ]
  },
  {
   "cell_type": "code",
   "execution_count": 15,
   "metadata": {
    "id": "ikC0ip920tUu"
   },
   "outputs": [],
   "source": [
    "# List of Attack values for all pokemon in every generation.\n",
    "atk_list = gen1_atk_list + gen2_atk_list + gen3_atk_list + gen4_atk_list + gen5_atk_list + gen6_atk_list + gen7_atk_list + gen8_atk_list"
   ]
  },
  {
   "cell_type": "markdown",
   "metadata": {
    "id": "-4AijHG8oVSp"
   },
   "source": [
    "##### Request Defense information. (run once)"
   ]
  },
  {
   "cell_type": "code",
   "execution_count": 16,
   "metadata": {
    "id": "c7An82lBl_tL"
   },
   "outputs": [],
   "source": [
    "# Using a previous function to make Defense lists for every pokemon in every generation seperately.\n",
    "gen1_dfns_list = stat_list_generator(2, 1)\n",
    "gen2_dfns_list = stat_list_generator(2, 2)\n",
    "gen3_dfns_list = stat_list_generator(2, 3)\n",
    "gen4_dfns_list = stat_list_generator(2, 4)\n",
    "gen5_dfns_list = stat_list_generator(2, 5)\n",
    "gen6_dfns_list = stat_list_generator(2, 6)\n",
    "gen7_dfns_list = stat_list_generator(2, 7)\n",
    "gen8_dfns_list = stat_list_generator(2, 8)"
   ]
  },
  {
   "cell_type": "code",
   "execution_count": 17,
   "metadata": {
    "id": "oER06Md72EWI"
   },
   "outputs": [],
   "source": [
    "# List of Defense values for all pokemon in every generation.\n",
    "dfns_list = gen1_dfns_list + gen2_dfns_list + gen3_dfns_list + gen4_dfns_list + gen5_dfns_list + gen6_dfns_list + gen7_dfns_list + gen8_dfns_list"
   ]
  },
  {
   "cell_type": "markdown",
   "metadata": {
    "id": "mg2nKt_KodfJ"
   },
   "source": [
    "##### Request Special Attack information. (run once)"
   ]
  },
  {
   "cell_type": "code",
   "execution_count": 18,
   "metadata": {
    "id": "Ci2TePprmM6z"
   },
   "outputs": [],
   "source": [
    "# Using a previous function to make Special Attack lists for every pokemon in every generation seperately.\n",
    "gen1_spa_list = stat_list_generator(3, 1)\n",
    "gen2_spa_list = stat_list_generator(3, 2)\n",
    "gen3_spa_list = stat_list_generator(3, 3)\n",
    "gen4_spa_list = stat_list_generator(3, 4)\n",
    "gen5_spa_list = stat_list_generator(3, 5)\n",
    "gen6_spa_list = stat_list_generator(3, 6)\n",
    "gen7_spa_list = stat_list_generator(3, 7)\n",
    "gen8_spa_list = stat_list_generator(3, 8)"
   ]
  },
  {
   "cell_type": "code",
   "execution_count": 19,
   "metadata": {
    "id": "F-2eZuSp2hYa"
   },
   "outputs": [],
   "source": [
    "# List of Special Attack values for all pokemon in every generation.\n",
    "spa_list = gen1_spa_list + gen2_spa_list + gen3_spa_list + gen4_spa_list + gen5_spa_list + gen6_spa_list + gen7_spa_list + gen8_spa_list"
   ]
  },
  {
   "cell_type": "markdown",
   "metadata": {
    "id": "sB8E5UMDoh0C"
   },
   "source": [
    "##### Request Special Defense information. (run once)"
   ]
  },
  {
   "cell_type": "code",
   "execution_count": 20,
   "metadata": {
    "id": "_LKRFUyymTyw"
   },
   "outputs": [],
   "source": [
    "# Using a previous function to make Special Defense lists for every pokemon in every generation seperately.\n",
    "gen1_spdf_list = stat_list_generator(4, 1)\n",
    "gen2_spdf_list = stat_list_generator(4, 2)\n",
    "gen3_spdf_list = stat_list_generator(4, 3)\n",
    "gen4_spdf_list = stat_list_generator(4, 4)\n",
    "gen5_spdf_list = stat_list_generator(4, 5)\n",
    "gen6_spdf_list = stat_list_generator(4, 6)\n",
    "gen7_spdf_list = stat_list_generator(4, 7)\n",
    "gen8_spdf_list = stat_list_generator(4, 8)"
   ]
  },
  {
   "cell_type": "code",
   "execution_count": 21,
   "metadata": {
    "id": "UCDrRDno28-8"
   },
   "outputs": [],
   "source": [
    "# List of HP values for all pokemon in every generation.\n",
    "spdf_list = gen1_spdf_list + gen2_spdf_list + gen3_spdf_list + gen4_spdf_list + gen5_spdf_list + gen6_spdf_list + gen7_spdf_list + gen8_spdf_list"
   ]
  },
  {
   "cell_type": "markdown",
   "metadata": {
    "id": "PuJg2f_8oj1D"
   },
   "source": [
    "##### Request Speed information. (run once)"
   ]
  },
  {
   "cell_type": "code",
   "execution_count": 22,
   "metadata": {
    "id": "yjOsJc5emcID"
   },
   "outputs": [],
   "source": [
    "# Using a previous function to make Speed lists for every pokemon in every generation seperately.\n",
    "gen1_speed_list = stat_list_generator(5, 1)\n",
    "gen2_speed_list = stat_list_generator(5, 2)\n",
    "gen3_speed_list = stat_list_generator(5, 3)\n",
    "gen4_speed_list = stat_list_generator(5, 4)\n",
    "gen5_speed_list = stat_list_generator(5, 5)\n",
    "gen6_speed_list = stat_list_generator(5, 6)\n",
    "gen7_speed_list = stat_list_generator(5, 7)\n",
    "gen8_speed_list = stat_list_generator(5, 8)"
   ]
  },
  {
   "cell_type": "code",
   "execution_count": 23,
   "metadata": {
    "id": "axktEDGf3bRc"
   },
   "outputs": [],
   "source": [
    "# List of Speed values for all pokemon in every generation.\n",
    "speed_list = gen1_speed_list+ gen2_speed_list+ gen3_speed_list+ gen4_speed_list+ gen5_speed_list+ gen6_speed_list+ gen7_speed_list+ gen8_speed_list"
   ]
  },
  {
   "cell_type": "markdown",
   "metadata": {
    "id": "pNY69riyr6ql"
   },
   "source": [
    "##### Request Legendary and Mythical pokemon information. (run once)"
   ]
  },
  {
   "cell_type": "code",
   "execution_count": 24,
   "metadata": {
    "id": "PuaYB-xV7yT3"
   },
   "outputs": [],
   "source": [
    "# Using a previous function to make legendary boolean lists for every pokemon in every generation seperately.\n",
    "gen1_legendary_list = list_generator('pokemon-species', 'is_legendary', 1)\n",
    "gen2_legendary_list = list_generator('pokemon-species', 'is_legendary', 2)\n",
    "gen3_legendary_list = list_generator('pokemon-species', 'is_legendary', 3)\n",
    "gen4_legendary_list = list_generator('pokemon-species', 'is_legendary', 4)\n",
    "gen5_legendary_list = list_generator('pokemon-species', 'is_legendary', 5)\n",
    "gen6_legendary_list = list_generator('pokemon-species', 'is_legendary', 6)\n",
    "gen7_legendary_list = list_generator('pokemon-species', 'is_legendary', 7)\n",
    "gen8_legendary_list = list_generator('pokemon-species', 'is_legendary', 8)\n",
    "\n",
    "# Using a previous function to make mythical boolean lists for every pokemon in every generation seperately.\n",
    "gen1_mythical_list = list_generator('pokemon-species', 'is_mythical', 1)\n",
    "gen2_mythical_list = list_generator('pokemon-species', 'is_mythical', 2)\n",
    "gen3_mythical_list = list_generator('pokemon-species', 'is_mythical', 3)\n",
    "gen4_mythical_list = list_generator('pokemon-species', 'is_mythical', 4)\n",
    "gen5_mythical_list = list_generator('pokemon-species', 'is_mythical', 5)\n",
    "gen6_mythical_list = list_generator('pokemon-species', 'is_mythical', 6)\n",
    "gen7_mythical_list = list_generator('pokemon-species', 'is_mythical', 7)\n",
    "gen8_mythical_list = list_generator('pokemon-species', 'is_mythical', 8)"
   ]
  },
  {
   "cell_type": "code",
   "execution_count": 25,
   "metadata": {
    "id": "IjiMixqJ4FhC"
   },
   "outputs": [],
   "source": [
    "legendary_list = gen1_legendary_list + gen2_legendary_list + gen3_legendary_list + gen4_legendary_list + gen5_legendary_list + gen6_legendary_list + gen7_legendary_list + gen8_legendary_list\n",
    "mythical_list = gen1_mythical_list + gen2_mythical_list + gen3_mythical_list + gen4_mythical_list + gen5_mythical_list + gen6_mythical_list + gen7_mythical_list + gen8_mythical_list"
   ]
  },
  {
   "cell_type": "markdown",
   "metadata": {
    "id": "L066-3qnuZYG"
   },
   "source": [
    "### **Step 3: Transforming, cleaning, organizing, and exporting dataset to CSV.**"
   ]
  },
  {
   "cell_type": "code",
   "execution_count": 29,
   "metadata": {
    "colab": {
     "base_uri": "https://localhost:8080/"
    },
    "id": "rrDItly5eWcF",
    "outputId": "21241e59-e466-4750-b861-a4bf6b89cb87"
   },
   "outputs": [
    {
     "data": {
      "text/html": [
       "<div>\n",
       "<style scoped>\n",
       "    .dataframe tbody tr th:only-of-type {\n",
       "        vertical-align: middle;\n",
       "    }\n",
       "\n",
       "    .dataframe tbody tr th {\n",
       "        vertical-align: top;\n",
       "    }\n",
       "\n",
       "    .dataframe thead th {\n",
       "        text-align: right;\n",
       "    }\n",
       "</style>\n",
       "<table border=\"1\" class=\"dataframe\">\n",
       "  <thead>\n",
       "    <tr style=\"text-align: right;\">\n",
       "      <th></th>\n",
       "      <th>ID</th>\n",
       "      <th>Name</th>\n",
       "      <th>Type 1</th>\n",
       "      <th>Type 2</th>\n",
       "      <th>Ability 1</th>\n",
       "      <th>Ability 2</th>\n",
       "      <th>Hidden Ability</th>\n",
       "      <th>HP</th>\n",
       "      <th>Attack</th>\n",
       "      <th>Defense</th>\n",
       "      <th>Special Attack</th>\n",
       "      <th>Special Defense</th>\n",
       "      <th>Speed</th>\n",
       "      <th>Legendary</th>\n",
       "      <th>Mythical</th>\n",
       "      <th>Psuedo-Legendary</th>\n",
       "    </tr>\n",
       "  </thead>\n",
       "  <tbody>\n",
       "    <tr>\n",
       "      <th>0</th>\n",
       "      <td>1</td>\n",
       "      <td>bulbasaur</td>\n",
       "      <td>grass</td>\n",
       "      <td>poison</td>\n",
       "      <td>overgrow</td>\n",
       "      <td>NaN</td>\n",
       "      <td>chlorophyll</td>\n",
       "      <td>45</td>\n",
       "      <td>49</td>\n",
       "      <td>49</td>\n",
       "      <td>65</td>\n",
       "      <td>65</td>\n",
       "      <td>45</td>\n",
       "      <td>False</td>\n",
       "      <td>False</td>\n",
       "      <td>False</td>\n",
       "    </tr>\n",
       "    <tr>\n",
       "      <th>1</th>\n",
       "      <td>2</td>\n",
       "      <td>ivysaur</td>\n",
       "      <td>grass</td>\n",
       "      <td>poison</td>\n",
       "      <td>overgrow</td>\n",
       "      <td>NaN</td>\n",
       "      <td>chlorophyll</td>\n",
       "      <td>60</td>\n",
       "      <td>62</td>\n",
       "      <td>63</td>\n",
       "      <td>80</td>\n",
       "      <td>80</td>\n",
       "      <td>60</td>\n",
       "      <td>False</td>\n",
       "      <td>False</td>\n",
       "      <td>False</td>\n",
       "    </tr>\n",
       "    <tr>\n",
       "      <th>2</th>\n",
       "      <td>3</td>\n",
       "      <td>venusaur</td>\n",
       "      <td>grass</td>\n",
       "      <td>poison</td>\n",
       "      <td>overgrow</td>\n",
       "      <td>NaN</td>\n",
       "      <td>chlorophyll</td>\n",
       "      <td>80</td>\n",
       "      <td>82</td>\n",
       "      <td>83</td>\n",
       "      <td>100</td>\n",
       "      <td>100</td>\n",
       "      <td>80</td>\n",
       "      <td>False</td>\n",
       "      <td>False</td>\n",
       "      <td>False</td>\n",
       "    </tr>\n",
       "    <tr>\n",
       "      <th>3</th>\n",
       "      <td>4</td>\n",
       "      <td>charmander</td>\n",
       "      <td>fire</td>\n",
       "      <td>NaN</td>\n",
       "      <td>blaze</td>\n",
       "      <td>NaN</td>\n",
       "      <td>solar-power</td>\n",
       "      <td>39</td>\n",
       "      <td>52</td>\n",
       "      <td>43</td>\n",
       "      <td>60</td>\n",
       "      <td>50</td>\n",
       "      <td>65</td>\n",
       "      <td>False</td>\n",
       "      <td>False</td>\n",
       "      <td>False</td>\n",
       "    </tr>\n",
       "    <tr>\n",
       "      <th>4</th>\n",
       "      <td>5</td>\n",
       "      <td>charmeleon</td>\n",
       "      <td>fire</td>\n",
       "      <td>NaN</td>\n",
       "      <td>blaze</td>\n",
       "      <td>NaN</td>\n",
       "      <td>solar-power</td>\n",
       "      <td>58</td>\n",
       "      <td>64</td>\n",
       "      <td>58</td>\n",
       "      <td>80</td>\n",
       "      <td>65</td>\n",
       "      <td>80</td>\n",
       "      <td>False</td>\n",
       "      <td>False</td>\n",
       "      <td>False</td>\n",
       "    </tr>\n",
       "    <tr>\n",
       "      <th>...</th>\n",
       "      <td>...</td>\n",
       "      <td>...</td>\n",
       "      <td>...</td>\n",
       "      <td>...</td>\n",
       "      <td>...</td>\n",
       "      <td>...</td>\n",
       "      <td>...</td>\n",
       "      <td>...</td>\n",
       "      <td>...</td>\n",
       "      <td>...</td>\n",
       "      <td>...</td>\n",
       "      <td>...</td>\n",
       "      <td>...</td>\n",
       "      <td>...</td>\n",
       "      <td>...</td>\n",
       "      <td>...</td>\n",
       "    </tr>\n",
       "    <tr>\n",
       "      <th>893</th>\n",
       "      <td>894</td>\n",
       "      <td>regieleki</td>\n",
       "      <td>electric</td>\n",
       "      <td>NaN</td>\n",
       "      <td>transistor</td>\n",
       "      <td>NaN</td>\n",
       "      <td>NaN</td>\n",
       "      <td>80</td>\n",
       "      <td>100</td>\n",
       "      <td>50</td>\n",
       "      <td>100</td>\n",
       "      <td>50</td>\n",
       "      <td>200</td>\n",
       "      <td>True</td>\n",
       "      <td>False</td>\n",
       "      <td>False</td>\n",
       "    </tr>\n",
       "    <tr>\n",
       "      <th>894</th>\n",
       "      <td>895</td>\n",
       "      <td>regidrago</td>\n",
       "      <td>dragon</td>\n",
       "      <td>NaN</td>\n",
       "      <td>dragons-maw</td>\n",
       "      <td>NaN</td>\n",
       "      <td>NaN</td>\n",
       "      <td>200</td>\n",
       "      <td>100</td>\n",
       "      <td>50</td>\n",
       "      <td>100</td>\n",
       "      <td>50</td>\n",
       "      <td>80</td>\n",
       "      <td>True</td>\n",
       "      <td>False</td>\n",
       "      <td>False</td>\n",
       "    </tr>\n",
       "    <tr>\n",
       "      <th>895</th>\n",
       "      <td>896</td>\n",
       "      <td>glastrier</td>\n",
       "      <td>ice</td>\n",
       "      <td>NaN</td>\n",
       "      <td>chilling-neigh</td>\n",
       "      <td>NaN</td>\n",
       "      <td>NaN</td>\n",
       "      <td>100</td>\n",
       "      <td>145</td>\n",
       "      <td>130</td>\n",
       "      <td>65</td>\n",
       "      <td>110</td>\n",
       "      <td>30</td>\n",
       "      <td>True</td>\n",
       "      <td>False</td>\n",
       "      <td>False</td>\n",
       "    </tr>\n",
       "    <tr>\n",
       "      <th>896</th>\n",
       "      <td>897</td>\n",
       "      <td>spectrier</td>\n",
       "      <td>ghost</td>\n",
       "      <td>NaN</td>\n",
       "      <td>grim-neigh</td>\n",
       "      <td>NaN</td>\n",
       "      <td>NaN</td>\n",
       "      <td>100</td>\n",
       "      <td>65</td>\n",
       "      <td>60</td>\n",
       "      <td>145</td>\n",
       "      <td>80</td>\n",
       "      <td>130</td>\n",
       "      <td>True</td>\n",
       "      <td>False</td>\n",
       "      <td>False</td>\n",
       "    </tr>\n",
       "    <tr>\n",
       "      <th>897</th>\n",
       "      <td>898</td>\n",
       "      <td>calyrex</td>\n",
       "      <td>psychic</td>\n",
       "      <td>grass</td>\n",
       "      <td>unnerve</td>\n",
       "      <td>NaN</td>\n",
       "      <td>NaN</td>\n",
       "      <td>100</td>\n",
       "      <td>80</td>\n",
       "      <td>80</td>\n",
       "      <td>80</td>\n",
       "      <td>80</td>\n",
       "      <td>80</td>\n",
       "      <td>True</td>\n",
       "      <td>False</td>\n",
       "      <td>False</td>\n",
       "    </tr>\n",
       "  </tbody>\n",
       "</table>\n",
       "<p>898 rows × 16 columns</p>\n",
       "</div>"
      ],
      "text/plain": [
       "      ID        Name    Type 1  Type 2       Ability 1 Ability 2  \\\n",
       "0      1   bulbasaur     grass  poison        overgrow       NaN   \n",
       "1      2     ivysaur     grass  poison        overgrow       NaN   \n",
       "2      3    venusaur     grass  poison        overgrow       NaN   \n",
       "3      4  charmander      fire     NaN           blaze       NaN   \n",
       "4      5  charmeleon      fire     NaN           blaze       NaN   \n",
       "..   ...         ...       ...     ...             ...       ...   \n",
       "893  894   regieleki  electric     NaN      transistor       NaN   \n",
       "894  895   regidrago    dragon     NaN     dragons-maw       NaN   \n",
       "895  896   glastrier       ice     NaN  chilling-neigh       NaN   \n",
       "896  897   spectrier     ghost     NaN      grim-neigh       NaN   \n",
       "897  898     calyrex   psychic   grass         unnerve       NaN   \n",
       "\n",
       "    Hidden Ability   HP  Attack  Defense  Special Attack  Special Defense  \\\n",
       "0      chlorophyll   45      49       49              65               65   \n",
       "1      chlorophyll   60      62       63              80               80   \n",
       "2      chlorophyll   80      82       83             100              100   \n",
       "3      solar-power   39      52       43              60               50   \n",
       "4      solar-power   58      64       58              80               65   \n",
       "..             ...  ...     ...      ...             ...              ...   \n",
       "893            NaN   80     100       50             100               50   \n",
       "894            NaN  200     100       50             100               50   \n",
       "895            NaN  100     145      130              65              110   \n",
       "896            NaN  100      65       60             145               80   \n",
       "897            NaN  100      80       80              80               80   \n",
       "\n",
       "     Speed  Legendary  Mythical  Psuedo-Legendary  \n",
       "0       45      False     False             False  \n",
       "1       60      False     False             False  \n",
       "2       80      False     False             False  \n",
       "3       65      False     False             False  \n",
       "4       80      False     False             False  \n",
       "..     ...        ...       ...               ...  \n",
       "893    200       True     False             False  \n",
       "894     80       True     False             False  \n",
       "895     30       True     False             False  \n",
       "896    130       True     False             False  \n",
       "897     80       True     False             False  \n",
       "\n",
       "[898 rows x 16 columns]"
      ]
     },
     "metadata": {},
     "output_type": "display_data"
    }
   ],
   "source": [
    "# Turns all previously gathered lists of information into a dictionary then a dataframe\n",
    "dataframe_dict = {\n",
    "    'ID': list(range(1,899)),\n",
    "    'Name': poke_names,\n",
    "    'Type 1': type_1,\n",
    "    'Type 2': type_2,\n",
    "    'Ability 1': ability_1,\n",
    "    'Ability 2': ability_2,\n",
    "    'Hidden Ability': hidden_ability,\n",
    "    'HP': HP_list,\n",
    "    'Attack': atk_list,\n",
    "    'Defense': dfns_list,\n",
    "    'Special Attack': spa_list,\n",
    "    'Special Defense': spdf_list,\n",
    "    'Speed': speed_list,\n",
    "    'Legendary': legendary_list,\n",
    "    'Mythical': mythical_list\n",
    "}\n",
    "pokemon_df = pd.DataFrame(dataframe_dict)\n",
    "\n",
    "# Making Psuedo-Legendary Column\n",
    "pokemon_df['base_stat_total'] = pokemon_df.iloc[:, 7:14].sum(axis=1)\n",
    "pokemon_df.loc[(pokemon_df['base_stat_total'] == 600) & (pokemon_df['Legendary'] == False) & (pokemon_df['Mythical'] == False), 'Psuedo-Legendary'] = True\n",
    "pokemon_df['Psuedo-Legendary'] = pokemon_df['Psuedo-Legendary'].notna()\n",
    "pokemon_df = pokemon_df.drop(columns=['base_stat_total'])\n",
    "\n",
    "# Replacing zero's with Nan values\n",
    "cols = ['Type 2', 'Ability 2', 'Hidden Ability']\n",
    "pokemon_df[cols] = pokemon_df[cols].replace(0, np.nan)\n",
    "display(pokemon_df)\n",
    "\n",
    "# Exporting dataset to CSV\n",
    "# pokemon_df.to_csv('pokemon-data.csv')"
   ]
  }
 ],
 "metadata": {
  "colab": {
   "collapsed_sections": [],
   "name": "pokemon-dataset-creation",
   "provenance": []
  },
  "kernelspec": {
   "display_name": "Python 3",
   "language": "python",
   "name": "python3"
  },
  "language_info": {
   "codemirror_mode": {
    "name": "ipython",
    "version": 3
   },
   "file_extension": ".py",
   "mimetype": "text/x-python",
   "name": "python",
   "nbconvert_exporter": "python",
   "pygments_lexer": "ipython3",
   "version": "3.8.2"
  }
 },
 "nbformat": 4,
 "nbformat_minor": 4
}
