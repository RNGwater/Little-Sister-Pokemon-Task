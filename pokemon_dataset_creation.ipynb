{
  "nbformat": 4,
  "nbformat_minor": 0,
  "metadata": {
    "colab": {
      "name": "pokemon-dataset-creation",
      "provenance": [],
      "collapsed_sections": []
    },
    "kernelspec": {
      "name": "python3",
      "display_name": "Python 3"
    },
    "language_info": {
      "name": "python"
    }
  },
  "cells": [
    {
      "cell_type": "markdown",
      "source": [
        "# **Creating a Pokemon dataset using an API**"
      ],
      "metadata": {
        "id": "5yyPLQMwaVZc"
      }
    },
    {
      "cell_type": "markdown",
      "source": [
        "### **Step 1: Setting up.**"
      ],
      "metadata": {
        "id": "QbpiUYPo4rG4"
      }
    },
    {
      "cell_type": "code",
      "source": [
        "# Importing Libraries.\n",
        "import requests as rq\n",
        "import pandas as pd\n",
        "import numpy as np\n",
        "\n",
        "# Used to easily communicate wiht API.\n",
        "api_url = 'https://pokeapi.co/api/v2/'\n",
        "\n",
        "def api_response(endpoint):\n",
        "  return rq.get(api_url + f'{endpoint}').json()"
      ],
      "metadata": {
        "id": "rq8gB4HZ43qf"
      },
      "execution_count": 2,
      "outputs": []
    },
    {
      "cell_type": "markdown",
      "source": [
        "### **Step 2: Gathering desired data.**"
      ],
      "metadata": {
        "id": "OSeA2yJngQgV"
      }
    },
    {
      "cell_type": "markdown",
      "source": [
        "##### Since API's have limits on the amount of requests you can make within a certain time period, we will need to limit the amount of pokemon data we extract, and if necesarry add time delays between each request. This will also make testing the data for accuracy much faster, since we can can load in small chunks of data at a time. For this reason we will be seperating the reauest by pokemon generation."
      ],
      "metadata": {
        "id": "caZuvMJJeS5r"
      }
    },
    {
      "cell_type": "markdown",
      "source": [
        "##### Locating Pokemon names information."
      ],
      "metadata": {
        "id": "0ibmWKZOjxj5"
      }
    },
    {
      "cell_type": "code",
      "source": [
        "# Enter a pokemon generation number and get list of pokedex ID's of all pokemon in that generation.\n",
        "def pokemon_gen_range(generation):\n",
        "  gen_dict = {\n",
        "    'gen_1': list(range(1,152)),\n",
        "    'gen_2': list(range(152,252)),\n",
        "    'gen_3': list(range(252,387)),\n",
        "    'gen_4': list(range(387,494)),\n",
        "    'gen_5': list(range(494,650)),\n",
        "    'gen_6': list(range(650,722)),\n",
        "    'gen_7': list(range(722,810)),\n",
        "    'gen_8': list(range(810,899))\n",
        "  }\n",
        "  return gen_dict[f'gen_{generation}']\n",
        "\n",
        "# Generates a list of information based on one resource and one endpoint.\n",
        "def list_generator(endpoint, resource, gen):\n",
        "  temp_list = []\n",
        "  for i in pokemon_gen_range(gen):\n",
        "    temp_list.append(api_response(f'{endpoint}/{i}')[f'{resource}'])\n",
        "  return temp_list"
      ],
      "metadata": {
        "id": "2IvtqplTrB-e"
      },
      "execution_count": 3,
      "outputs": []
    },
    {
      "cell_type": "markdown",
      "source": [
        "##### Request Pokemon names. (run once)"
      ],
      "metadata": {
        "id": "8Ra8pLAOgafy"
      }
    },
    {
      "cell_type": "code",
      "source": [
        "# using our previous function to make a names lists for every pokemon generation seperately\n",
        "gen1_names = list_generator('pokemon', 'name', 1)\n",
        "gen2_names = list_generator('pokemon', 'name', 2)\n",
        "gen3_names = list_generator('pokemon', 'name', 3)\n",
        "gen4_names = list_generator('pokemon', 'name', 4)\n",
        "gen5_names = list_generator('pokemon', 'name', 5)\n",
        "gen6_names = list_generator('pokemon', 'name', 6)\n",
        "gen7_names = list_generator('pokemon', 'name', 7)\n",
        "gen8_names = list_generator('pokemon', 'name', 8)"
      ],
      "metadata": {
        "id": "R36TTFfftUwE"
      },
      "execution_count": 4,
      "outputs": []
    },
    {
      "cell_type": "code",
      "source": [
        "# List of all pokemon names\n",
        "poke_names = gen1_names + gen2_names + gen3_names + gen4_names + gen5_names + gen6_names + gen7_names + gen8_names"
      ],
      "metadata": {
        "id": "fQ0VIHFRg19M"
      },
      "execution_count": 5,
      "outputs": []
    },
    {
      "cell_type": "markdown",
      "source": [
        "##### Locating Pokemon abilities information."
      ],
      "metadata": {
        "id": "PMWULLpHj7ie"
      }
    },
    {
      "cell_type": "code",
      "source": [
        "# Enter a pokemon generation, and get ordered lists of all the pokemon's abilites for that generation.\n",
        "def ability_list_generator(generation):\n",
        "  ability_1 = []\n",
        "  ability_2 = []\n",
        "  hidden_ability = []\n",
        "  for i in pokemon_gen_range(generation):\n",
        "    pokemon_number = i\n",
        "    data = api_response(f'pokemon/{pokemon_number}/')\n",
        "    abil_dict_length = len(api_response(f'pokemon/{pokemon_number}')['abilities'])\n",
        "    ability_1.append(data['abilities'][0]['ability']['name'])\n",
        "    if abil_dict_length == 1:\n",
        "      ability_2.append(0)\n",
        "      hidden_ability.append(0)\n",
        "    elif abil_dict_length == 2 and data['abilities'][1]['is_hidden'] == True:\n",
        "      hidden_ability.append(data['abilities'][1]['ability']['name'])\n",
        "      ability_2.append(0)\n",
        "    elif abil_dict_length == 2 and data['abilities'][1]['is_hidden'] == False:\n",
        "      ability_2.append(data['abilities'][1]['ability']['name'])\n",
        "      hidden_ability.append(0)\n",
        "    elif abil_dict_length == 3:\n",
        "      ability_2.append(data['abilities'][1]['ability']['name'])\n",
        "      hidden_ability.append(data['abilities'][2]['ability']['name'])\n",
        "  return ability_1, ability_2, hidden_ability"
      ],
      "metadata": {
        "id": "bhYrBbfM5m5x"
      },
      "execution_count": 6,
      "outputs": []
    },
    {
      "cell_type": "markdown",
      "source": [
        "##### Request Pokemon abilities. (run once)"
      ],
      "metadata": {
        "id": "QrMjg5Hch_ro"
      }
    },
    {
      "cell_type": "code",
      "source": [
        "# Using our previous function to make abilities lists for every pokemon in every generation seperately.\n",
        "gen1_abilities = ability_list_generator(1)\n",
        "gen2_abilities = ability_list_generator(2)\n",
        "gen3_abilities = ability_list_generator(3)\n",
        "gen4_abilities = ability_list_generator(4)\n",
        "gen5_abilities = ability_list_generator(5)\n",
        "gen6_abilities = ability_list_generator(6)\n",
        "gen7_abilities = ability_list_generator(7)\n",
        "gen8_abilities = ability_list_generator(8)"
      ],
      "metadata": {
        "colab": {
          "base_uri": "https://localhost:8080/",
          "height": 395
        },
        "id": "Ix44MERXpnK7",
        "outputId": "de07185c-04bd-4744-8a9a-2fa042ac855b"
      },
      "execution_count": 7,
      "outputs": [
        {
          "output_type": "error",
          "ename": "KeyboardInterrupt",
          "evalue": "ignored",
          "traceback": [
            "\u001b[0;31m---------------------------------------------------------------------------\u001b[0m",
            "\u001b[0;31mKeyboardInterrupt\u001b[0m                         Traceback (most recent call last)",
            "\u001b[0;32m<ipython-input-7-97866dfaa53f>\u001b[0m in \u001b[0;36m<module>\u001b[0;34m()\u001b[0m\n\u001b[1;32m      1\u001b[0m \u001b[0;31m# Using our previous function to make abilities lists for every pokemon in every generation seperately.\u001b[0m\u001b[0;34m\u001b[0m\u001b[0;34m\u001b[0m\u001b[0;34m\u001b[0m\u001b[0m\n\u001b[0;32m----> 2\u001b[0;31m \u001b[0mgen1_abilities\u001b[0m \u001b[0;34m=\u001b[0m \u001b[0mability_list_generator\u001b[0m\u001b[0;34m(\u001b[0m\u001b[0;36m1\u001b[0m\u001b[0;34m)\u001b[0m\u001b[0;34m\u001b[0m\u001b[0;34m\u001b[0m\u001b[0m\n\u001b[0m\u001b[1;32m      3\u001b[0m \u001b[0mgen2_abilities\u001b[0m \u001b[0;34m=\u001b[0m \u001b[0mability_list_generator\u001b[0m\u001b[0;34m(\u001b[0m\u001b[0;36m2\u001b[0m\u001b[0;34m)\u001b[0m\u001b[0;34m\u001b[0m\u001b[0;34m\u001b[0m\u001b[0m\n\u001b[1;32m      4\u001b[0m \u001b[0mgen3_abilities\u001b[0m \u001b[0;34m=\u001b[0m \u001b[0mability_list_generator\u001b[0m\u001b[0;34m(\u001b[0m\u001b[0;36m3\u001b[0m\u001b[0;34m)\u001b[0m\u001b[0;34m\u001b[0m\u001b[0;34m\u001b[0m\u001b[0m\n\u001b[1;32m      5\u001b[0m \u001b[0mgen4_abilities\u001b[0m \u001b[0;34m=\u001b[0m \u001b[0mability_list_generator\u001b[0m\u001b[0;34m(\u001b[0m\u001b[0;36m4\u001b[0m\u001b[0;34m)\u001b[0m\u001b[0;34m\u001b[0m\u001b[0;34m\u001b[0m\u001b[0m\n",
            "\u001b[0;32m<ipython-input-6-3fdb12f1fccd>\u001b[0m in \u001b[0;36mability_list_generator\u001b[0;34m(generation)\u001b[0m\n\u001b[1;32m      7\u001b[0m     \u001b[0mpokemon_number\u001b[0m \u001b[0;34m=\u001b[0m \u001b[0mi\u001b[0m\u001b[0;34m\u001b[0m\u001b[0;34m\u001b[0m\u001b[0m\n\u001b[1;32m      8\u001b[0m     \u001b[0mdata\u001b[0m \u001b[0;34m=\u001b[0m \u001b[0mapi_response\u001b[0m\u001b[0;34m(\u001b[0m\u001b[0;34mf'pokemon/{pokemon_number}/'\u001b[0m\u001b[0;34m)\u001b[0m\u001b[0;34m\u001b[0m\u001b[0;34m\u001b[0m\u001b[0m\n\u001b[0;32m----> 9\u001b[0;31m     \u001b[0mabil_dict_length\u001b[0m \u001b[0;34m=\u001b[0m \u001b[0mlen\u001b[0m\u001b[0;34m(\u001b[0m\u001b[0mapi_response\u001b[0m\u001b[0;34m(\u001b[0m\u001b[0;34mf'pokemon/{pokemon_number}'\u001b[0m\u001b[0;34m)\u001b[0m\u001b[0;34m[\u001b[0m\u001b[0;34m'abilities'\u001b[0m\u001b[0;34m]\u001b[0m\u001b[0;34m)\u001b[0m\u001b[0;34m\u001b[0m\u001b[0;34m\u001b[0m\u001b[0m\n\u001b[0m\u001b[1;32m     10\u001b[0m     \u001b[0mability_1\u001b[0m\u001b[0;34m.\u001b[0m\u001b[0mappend\u001b[0m\u001b[0;34m(\u001b[0m\u001b[0mdata\u001b[0m\u001b[0;34m[\u001b[0m\u001b[0;34m'abilities'\u001b[0m\u001b[0;34m]\u001b[0m\u001b[0;34m[\u001b[0m\u001b[0;36m0\u001b[0m\u001b[0;34m]\u001b[0m\u001b[0;34m[\u001b[0m\u001b[0;34m'ability'\u001b[0m\u001b[0;34m]\u001b[0m\u001b[0;34m[\u001b[0m\u001b[0;34m'name'\u001b[0m\u001b[0;34m]\u001b[0m\u001b[0;34m)\u001b[0m\u001b[0;34m\u001b[0m\u001b[0;34m\u001b[0m\u001b[0m\n\u001b[1;32m     11\u001b[0m     \u001b[0;32mif\u001b[0m \u001b[0mabil_dict_length\u001b[0m \u001b[0;34m==\u001b[0m \u001b[0;36m1\u001b[0m\u001b[0;34m:\u001b[0m\u001b[0;34m\u001b[0m\u001b[0;34m\u001b[0m\u001b[0m\n",
            "\u001b[0;32m<ipython-input-2-28aa1e1ea425>\u001b[0m in \u001b[0;36mapi_response\u001b[0;34m(endpoint)\u001b[0m\n\u001b[1;32m      8\u001b[0m \u001b[0;34m\u001b[0m\u001b[0m\n\u001b[1;32m      9\u001b[0m \u001b[0;32mdef\u001b[0m \u001b[0mapi_response\u001b[0m\u001b[0;34m(\u001b[0m\u001b[0mendpoint\u001b[0m\u001b[0;34m)\u001b[0m\u001b[0;34m:\u001b[0m\u001b[0;34m\u001b[0m\u001b[0;34m\u001b[0m\u001b[0m\n\u001b[0;32m---> 10\u001b[0;31m   \u001b[0;32mreturn\u001b[0m \u001b[0mrq\u001b[0m\u001b[0;34m.\u001b[0m\u001b[0mget\u001b[0m\u001b[0;34m(\u001b[0m\u001b[0mapi_url\u001b[0m \u001b[0;34m+\u001b[0m \u001b[0;34mf'{endpoint}'\u001b[0m\u001b[0;34m)\u001b[0m\u001b[0;34m.\u001b[0m\u001b[0mjson\u001b[0m\u001b[0;34m(\u001b[0m\u001b[0;34m)\u001b[0m\u001b[0;34m\u001b[0m\u001b[0;34m\u001b[0m\u001b[0m\n\u001b[0m",
            "\u001b[0;32m/usr/local/lib/python3.7/dist-packages/requests/api.py\u001b[0m in \u001b[0;36mget\u001b[0;34m(url, params, **kwargs)\u001b[0m\n\u001b[1;32m     74\u001b[0m \u001b[0;34m\u001b[0m\u001b[0m\n\u001b[1;32m     75\u001b[0m     \u001b[0mkwargs\u001b[0m\u001b[0;34m.\u001b[0m\u001b[0msetdefault\u001b[0m\u001b[0;34m(\u001b[0m\u001b[0;34m'allow_redirects'\u001b[0m\u001b[0;34m,\u001b[0m \u001b[0;32mTrue\u001b[0m\u001b[0;34m)\u001b[0m\u001b[0;34m\u001b[0m\u001b[0;34m\u001b[0m\u001b[0m\n\u001b[0;32m---> 76\u001b[0;31m     \u001b[0;32mreturn\u001b[0m \u001b[0mrequest\u001b[0m\u001b[0;34m(\u001b[0m\u001b[0;34m'get'\u001b[0m\u001b[0;34m,\u001b[0m \u001b[0murl\u001b[0m\u001b[0;34m,\u001b[0m \u001b[0mparams\u001b[0m\u001b[0;34m=\u001b[0m\u001b[0mparams\u001b[0m\u001b[0;34m,\u001b[0m \u001b[0;34m**\u001b[0m\u001b[0mkwargs\u001b[0m\u001b[0;34m)\u001b[0m\u001b[0;34m\u001b[0m\u001b[0;34m\u001b[0m\u001b[0m\n\u001b[0m\u001b[1;32m     77\u001b[0m \u001b[0;34m\u001b[0m\u001b[0m\n\u001b[1;32m     78\u001b[0m \u001b[0;34m\u001b[0m\u001b[0m\n",
            "\u001b[0;32m/usr/local/lib/python3.7/dist-packages/requests/api.py\u001b[0m in \u001b[0;36mrequest\u001b[0;34m(method, url, **kwargs)\u001b[0m\n\u001b[1;32m     59\u001b[0m     \u001b[0;31m# cases, and look like a memory leak in others.\u001b[0m\u001b[0;34m\u001b[0m\u001b[0;34m\u001b[0m\u001b[0;34m\u001b[0m\u001b[0m\n\u001b[1;32m     60\u001b[0m     \u001b[0;32mwith\u001b[0m \u001b[0msessions\u001b[0m\u001b[0;34m.\u001b[0m\u001b[0mSession\u001b[0m\u001b[0;34m(\u001b[0m\u001b[0;34m)\u001b[0m \u001b[0;32mas\u001b[0m \u001b[0msession\u001b[0m\u001b[0;34m:\u001b[0m\u001b[0;34m\u001b[0m\u001b[0;34m\u001b[0m\u001b[0m\n\u001b[0;32m---> 61\u001b[0;31m         \u001b[0;32mreturn\u001b[0m \u001b[0msession\u001b[0m\u001b[0;34m.\u001b[0m\u001b[0mrequest\u001b[0m\u001b[0;34m(\u001b[0m\u001b[0mmethod\u001b[0m\u001b[0;34m=\u001b[0m\u001b[0mmethod\u001b[0m\u001b[0;34m,\u001b[0m \u001b[0murl\u001b[0m\u001b[0;34m=\u001b[0m\u001b[0murl\u001b[0m\u001b[0;34m,\u001b[0m \u001b[0;34m**\u001b[0m\u001b[0mkwargs\u001b[0m\u001b[0;34m)\u001b[0m\u001b[0;34m\u001b[0m\u001b[0;34m\u001b[0m\u001b[0m\n\u001b[0m\u001b[1;32m     62\u001b[0m \u001b[0;34m\u001b[0m\u001b[0m\n\u001b[1;32m     63\u001b[0m \u001b[0;34m\u001b[0m\u001b[0m\n",
            "\u001b[0;32m/usr/local/lib/python3.7/dist-packages/requests/sessions.py\u001b[0m in \u001b[0;36mrequest\u001b[0;34m(self, method, url, params, data, headers, cookies, files, auth, timeout, allow_redirects, proxies, hooks, stream, verify, cert, json)\u001b[0m\n\u001b[1;32m    528\u001b[0m         }\n\u001b[1;32m    529\u001b[0m         \u001b[0msend_kwargs\u001b[0m\u001b[0;34m.\u001b[0m\u001b[0mupdate\u001b[0m\u001b[0;34m(\u001b[0m\u001b[0msettings\u001b[0m\u001b[0;34m)\u001b[0m\u001b[0;34m\u001b[0m\u001b[0;34m\u001b[0m\u001b[0m\n\u001b[0;32m--> 530\u001b[0;31m         \u001b[0mresp\u001b[0m \u001b[0;34m=\u001b[0m \u001b[0mself\u001b[0m\u001b[0;34m.\u001b[0m\u001b[0msend\u001b[0m\u001b[0;34m(\u001b[0m\u001b[0mprep\u001b[0m\u001b[0;34m,\u001b[0m \u001b[0;34m**\u001b[0m\u001b[0msend_kwargs\u001b[0m\u001b[0;34m)\u001b[0m\u001b[0;34m\u001b[0m\u001b[0;34m\u001b[0m\u001b[0m\n\u001b[0m\u001b[1;32m    531\u001b[0m \u001b[0;34m\u001b[0m\u001b[0m\n\u001b[1;32m    532\u001b[0m         \u001b[0;32mreturn\u001b[0m \u001b[0mresp\u001b[0m\u001b[0;34m\u001b[0m\u001b[0;34m\u001b[0m\u001b[0m\n",
            "\u001b[0;32m/usr/local/lib/python3.7/dist-packages/requests/sessions.py\u001b[0m in \u001b[0;36msend\u001b[0;34m(self, request, **kwargs)\u001b[0m\n\u001b[1;32m    641\u001b[0m \u001b[0;34m\u001b[0m\u001b[0m\n\u001b[1;32m    642\u001b[0m         \u001b[0;31m# Send the request\u001b[0m\u001b[0;34m\u001b[0m\u001b[0;34m\u001b[0m\u001b[0;34m\u001b[0m\u001b[0m\n\u001b[0;32m--> 643\u001b[0;31m         \u001b[0mr\u001b[0m \u001b[0;34m=\u001b[0m \u001b[0madapter\u001b[0m\u001b[0;34m.\u001b[0m\u001b[0msend\u001b[0m\u001b[0;34m(\u001b[0m\u001b[0mrequest\u001b[0m\u001b[0;34m,\u001b[0m \u001b[0;34m**\u001b[0m\u001b[0mkwargs\u001b[0m\u001b[0;34m)\u001b[0m\u001b[0;34m\u001b[0m\u001b[0;34m\u001b[0m\u001b[0m\n\u001b[0m\u001b[1;32m    644\u001b[0m \u001b[0;34m\u001b[0m\u001b[0m\n\u001b[1;32m    645\u001b[0m         \u001b[0;31m# Total elapsed time of the request (approximately)\u001b[0m\u001b[0;34m\u001b[0m\u001b[0;34m\u001b[0m\u001b[0;34m\u001b[0m\u001b[0m\n",
            "\u001b[0;32m/usr/local/lib/python3.7/dist-packages/requests/adapters.py\u001b[0m in \u001b[0;36msend\u001b[0;34m(self, request, stream, timeout, verify, cert, proxies)\u001b[0m\n\u001b[1;32m    447\u001b[0m                     \u001b[0mdecode_content\u001b[0m\u001b[0;34m=\u001b[0m\u001b[0;32mFalse\u001b[0m\u001b[0;34m,\u001b[0m\u001b[0;34m\u001b[0m\u001b[0;34m\u001b[0m\u001b[0m\n\u001b[1;32m    448\u001b[0m                     \u001b[0mretries\u001b[0m\u001b[0;34m=\u001b[0m\u001b[0mself\u001b[0m\u001b[0;34m.\u001b[0m\u001b[0mmax_retries\u001b[0m\u001b[0;34m,\u001b[0m\u001b[0;34m\u001b[0m\u001b[0;34m\u001b[0m\u001b[0m\n\u001b[0;32m--> 449\u001b[0;31m                     \u001b[0mtimeout\u001b[0m\u001b[0;34m=\u001b[0m\u001b[0mtimeout\u001b[0m\u001b[0;34m\u001b[0m\u001b[0;34m\u001b[0m\u001b[0m\n\u001b[0m\u001b[1;32m    450\u001b[0m                 )\n\u001b[1;32m    451\u001b[0m \u001b[0;34m\u001b[0m\u001b[0m\n",
            "\u001b[0;32m/usr/local/lib/python3.7/dist-packages/urllib3/connectionpool.py\u001b[0m in \u001b[0;36murlopen\u001b[0;34m(self, method, url, body, headers, retries, redirect, assert_same_host, timeout, pool_timeout, release_conn, chunked, body_pos, **response_kw)\u001b[0m\n\u001b[1;32m    598\u001b[0m                                                   \u001b[0mtimeout\u001b[0m\u001b[0;34m=\u001b[0m\u001b[0mtimeout_obj\u001b[0m\u001b[0;34m,\u001b[0m\u001b[0;34m\u001b[0m\u001b[0;34m\u001b[0m\u001b[0m\n\u001b[1;32m    599\u001b[0m                                                   \u001b[0mbody\u001b[0m\u001b[0;34m=\u001b[0m\u001b[0mbody\u001b[0m\u001b[0;34m,\u001b[0m \u001b[0mheaders\u001b[0m\u001b[0;34m=\u001b[0m\u001b[0mheaders\u001b[0m\u001b[0;34m,\u001b[0m\u001b[0;34m\u001b[0m\u001b[0;34m\u001b[0m\u001b[0m\n\u001b[0;32m--> 600\u001b[0;31m                                                   chunked=chunked)\n\u001b[0m\u001b[1;32m    601\u001b[0m \u001b[0;34m\u001b[0m\u001b[0m\n\u001b[1;32m    602\u001b[0m             \u001b[0;31m# If we're going to release the connection in ``finally:``, then\u001b[0m\u001b[0;34m\u001b[0m\u001b[0;34m\u001b[0m\u001b[0;34m\u001b[0m\u001b[0m\n",
            "\u001b[0;32m/usr/local/lib/python3.7/dist-packages/urllib3/connectionpool.py\u001b[0m in \u001b[0;36m_make_request\u001b[0;34m(self, conn, method, url, timeout, chunked, **httplib_request_kw)\u001b[0m\n\u001b[1;32m    341\u001b[0m         \u001b[0;31m# Trigger any extra validation we need to do.\u001b[0m\u001b[0;34m\u001b[0m\u001b[0;34m\u001b[0m\u001b[0;34m\u001b[0m\u001b[0m\n\u001b[1;32m    342\u001b[0m         \u001b[0;32mtry\u001b[0m\u001b[0;34m:\u001b[0m\u001b[0;34m\u001b[0m\u001b[0;34m\u001b[0m\u001b[0m\n\u001b[0;32m--> 343\u001b[0;31m             \u001b[0mself\u001b[0m\u001b[0;34m.\u001b[0m\u001b[0m_validate_conn\u001b[0m\u001b[0;34m(\u001b[0m\u001b[0mconn\u001b[0m\u001b[0;34m)\u001b[0m\u001b[0;34m\u001b[0m\u001b[0;34m\u001b[0m\u001b[0m\n\u001b[0m\u001b[1;32m    344\u001b[0m         \u001b[0;32mexcept\u001b[0m \u001b[0;34m(\u001b[0m\u001b[0mSocketTimeout\u001b[0m\u001b[0;34m,\u001b[0m \u001b[0mBaseSSLError\u001b[0m\u001b[0;34m)\u001b[0m \u001b[0;32mas\u001b[0m \u001b[0me\u001b[0m\u001b[0;34m:\u001b[0m\u001b[0;34m\u001b[0m\u001b[0;34m\u001b[0m\u001b[0m\n\u001b[1;32m    345\u001b[0m             \u001b[0;31m# Py2 raises this as a BaseSSLError, Py3 raises it as socket timeout.\u001b[0m\u001b[0;34m\u001b[0m\u001b[0;34m\u001b[0m\u001b[0;34m\u001b[0m\u001b[0m\n",
            "\u001b[0;32m/usr/local/lib/python3.7/dist-packages/urllib3/connectionpool.py\u001b[0m in \u001b[0;36m_validate_conn\u001b[0;34m(self, conn)\u001b[0m\n\u001b[1;32m    837\u001b[0m         \u001b[0;31m# Force connect early to allow us to validate the connection.\u001b[0m\u001b[0;34m\u001b[0m\u001b[0;34m\u001b[0m\u001b[0;34m\u001b[0m\u001b[0m\n\u001b[1;32m    838\u001b[0m         \u001b[0;32mif\u001b[0m \u001b[0;32mnot\u001b[0m \u001b[0mgetattr\u001b[0m\u001b[0;34m(\u001b[0m\u001b[0mconn\u001b[0m\u001b[0;34m,\u001b[0m \u001b[0;34m'sock'\u001b[0m\u001b[0;34m,\u001b[0m \u001b[0;32mNone\u001b[0m\u001b[0;34m)\u001b[0m\u001b[0;34m:\u001b[0m  \u001b[0;31m# AppEngine might not have  `.sock`\u001b[0m\u001b[0;34m\u001b[0m\u001b[0;34m\u001b[0m\u001b[0m\n\u001b[0;32m--> 839\u001b[0;31m             \u001b[0mconn\u001b[0m\u001b[0;34m.\u001b[0m\u001b[0mconnect\u001b[0m\u001b[0;34m(\u001b[0m\u001b[0;34m)\u001b[0m\u001b[0;34m\u001b[0m\u001b[0;34m\u001b[0m\u001b[0m\n\u001b[0m\u001b[1;32m    840\u001b[0m \u001b[0;34m\u001b[0m\u001b[0m\n\u001b[1;32m    841\u001b[0m         \u001b[0;32mif\u001b[0m \u001b[0;32mnot\u001b[0m \u001b[0mconn\u001b[0m\u001b[0;34m.\u001b[0m\u001b[0mis_verified\u001b[0m\u001b[0;34m:\u001b[0m\u001b[0;34m\u001b[0m\u001b[0;34m\u001b[0m\u001b[0m\n",
            "\u001b[0;32m/usr/local/lib/python3.7/dist-packages/urllib3/connection.py\u001b[0m in \u001b[0;36mconnect\u001b[0;34m(self)\u001b[0m\n\u001b[1;32m    342\u001b[0m             \u001b[0mca_cert_dir\u001b[0m\u001b[0;34m=\u001b[0m\u001b[0mself\u001b[0m\u001b[0;34m.\u001b[0m\u001b[0mca_cert_dir\u001b[0m\u001b[0;34m,\u001b[0m\u001b[0;34m\u001b[0m\u001b[0;34m\u001b[0m\u001b[0m\n\u001b[1;32m    343\u001b[0m             \u001b[0mserver_hostname\u001b[0m\u001b[0;34m=\u001b[0m\u001b[0mserver_hostname\u001b[0m\u001b[0;34m,\u001b[0m\u001b[0;34m\u001b[0m\u001b[0;34m\u001b[0m\u001b[0m\n\u001b[0;32m--> 344\u001b[0;31m             ssl_context=context)\n\u001b[0m\u001b[1;32m    345\u001b[0m \u001b[0;34m\u001b[0m\u001b[0m\n\u001b[1;32m    346\u001b[0m         \u001b[0;32mif\u001b[0m \u001b[0mself\u001b[0m\u001b[0;34m.\u001b[0m\u001b[0massert_fingerprint\u001b[0m\u001b[0;34m:\u001b[0m\u001b[0;34m\u001b[0m\u001b[0;34m\u001b[0m\u001b[0m\n",
            "\u001b[0;32m/usr/local/lib/python3.7/dist-packages/urllib3/util/ssl_.py\u001b[0m in \u001b[0;36mssl_wrap_socket\u001b[0;34m(sock, keyfile, certfile, cert_reqs, ca_certs, server_hostname, ssl_version, ciphers, ssl_context, ca_cert_dir)\u001b[0m\n\u001b[1;32m    343\u001b[0m             or IS_SECURETRANSPORT):\n\u001b[1;32m    344\u001b[0m         \u001b[0;32mif\u001b[0m \u001b[0mHAS_SNI\u001b[0m \u001b[0;32mand\u001b[0m \u001b[0mserver_hostname\u001b[0m \u001b[0;32mis\u001b[0m \u001b[0;32mnot\u001b[0m \u001b[0;32mNone\u001b[0m\u001b[0;34m:\u001b[0m\u001b[0;34m\u001b[0m\u001b[0;34m\u001b[0m\u001b[0m\n\u001b[0;32m--> 345\u001b[0;31m             \u001b[0;32mreturn\u001b[0m \u001b[0mcontext\u001b[0m\u001b[0;34m.\u001b[0m\u001b[0mwrap_socket\u001b[0m\u001b[0;34m(\u001b[0m\u001b[0msock\u001b[0m\u001b[0;34m,\u001b[0m \u001b[0mserver_hostname\u001b[0m\u001b[0;34m=\u001b[0m\u001b[0mserver_hostname\u001b[0m\u001b[0;34m)\u001b[0m\u001b[0;34m\u001b[0m\u001b[0;34m\u001b[0m\u001b[0m\n\u001b[0m\u001b[1;32m    346\u001b[0m \u001b[0;34m\u001b[0m\u001b[0m\n\u001b[1;32m    347\u001b[0m         warnings.warn(\n",
            "\u001b[0;32m/usr/lib/python3.7/ssl.py\u001b[0m in \u001b[0;36mwrap_socket\u001b[0;34m(self, sock, server_side, do_handshake_on_connect, suppress_ragged_eofs, server_hostname, session)\u001b[0m\n\u001b[1;32m    421\u001b[0m             \u001b[0mserver_hostname\u001b[0m\u001b[0;34m=\u001b[0m\u001b[0mserver_hostname\u001b[0m\u001b[0;34m,\u001b[0m\u001b[0;34m\u001b[0m\u001b[0;34m\u001b[0m\u001b[0m\n\u001b[1;32m    422\u001b[0m             \u001b[0mcontext\u001b[0m\u001b[0;34m=\u001b[0m\u001b[0mself\u001b[0m\u001b[0;34m,\u001b[0m\u001b[0;34m\u001b[0m\u001b[0;34m\u001b[0m\u001b[0m\n\u001b[0;32m--> 423\u001b[0;31m             \u001b[0msession\u001b[0m\u001b[0;34m=\u001b[0m\u001b[0msession\u001b[0m\u001b[0;34m\u001b[0m\u001b[0;34m\u001b[0m\u001b[0m\n\u001b[0m\u001b[1;32m    424\u001b[0m         )\n\u001b[1;32m    425\u001b[0m \u001b[0;34m\u001b[0m\u001b[0m\n",
            "\u001b[0;32m/usr/lib/python3.7/ssl.py\u001b[0m in \u001b[0;36m_create\u001b[0;34m(cls, sock, server_side, do_handshake_on_connect, suppress_ragged_eofs, server_hostname, context, session)\u001b[0m\n\u001b[1;32m    868\u001b[0m                         \u001b[0;31m# non-blocking\u001b[0m\u001b[0;34m\u001b[0m\u001b[0;34m\u001b[0m\u001b[0;34m\u001b[0m\u001b[0m\n\u001b[1;32m    869\u001b[0m                         \u001b[0;32mraise\u001b[0m \u001b[0mValueError\u001b[0m\u001b[0;34m(\u001b[0m\u001b[0;34m\"do_handshake_on_connect should not be specified for non-blocking sockets\"\u001b[0m\u001b[0;34m)\u001b[0m\u001b[0;34m\u001b[0m\u001b[0;34m\u001b[0m\u001b[0m\n\u001b[0;32m--> 870\u001b[0;31m                     \u001b[0mself\u001b[0m\u001b[0;34m.\u001b[0m\u001b[0mdo_handshake\u001b[0m\u001b[0;34m(\u001b[0m\u001b[0;34m)\u001b[0m\u001b[0;34m\u001b[0m\u001b[0;34m\u001b[0m\u001b[0m\n\u001b[0m\u001b[1;32m    871\u001b[0m             \u001b[0;32mexcept\u001b[0m \u001b[0;34m(\u001b[0m\u001b[0mOSError\u001b[0m\u001b[0;34m,\u001b[0m \u001b[0mValueError\u001b[0m\u001b[0;34m)\u001b[0m\u001b[0;34m:\u001b[0m\u001b[0;34m\u001b[0m\u001b[0;34m\u001b[0m\u001b[0m\n\u001b[1;32m    872\u001b[0m                 \u001b[0mself\u001b[0m\u001b[0;34m.\u001b[0m\u001b[0mclose\u001b[0m\u001b[0;34m(\u001b[0m\u001b[0;34m)\u001b[0m\u001b[0;34m\u001b[0m\u001b[0;34m\u001b[0m\u001b[0m\n",
            "\u001b[0;32m/usr/lib/python3.7/ssl.py\u001b[0m in \u001b[0;36mdo_handshake\u001b[0;34m(self, block)\u001b[0m\n\u001b[1;32m   1137\u001b[0m             \u001b[0;32mif\u001b[0m \u001b[0mtimeout\u001b[0m \u001b[0;34m==\u001b[0m \u001b[0;36m0.0\u001b[0m \u001b[0;32mand\u001b[0m \u001b[0mblock\u001b[0m\u001b[0;34m:\u001b[0m\u001b[0;34m\u001b[0m\u001b[0;34m\u001b[0m\u001b[0m\n\u001b[1;32m   1138\u001b[0m                 \u001b[0mself\u001b[0m\u001b[0;34m.\u001b[0m\u001b[0msettimeout\u001b[0m\u001b[0;34m(\u001b[0m\u001b[0;32mNone\u001b[0m\u001b[0;34m)\u001b[0m\u001b[0;34m\u001b[0m\u001b[0;34m\u001b[0m\u001b[0m\n\u001b[0;32m-> 1139\u001b[0;31m             \u001b[0mself\u001b[0m\u001b[0;34m.\u001b[0m\u001b[0m_sslobj\u001b[0m\u001b[0;34m.\u001b[0m\u001b[0mdo_handshake\u001b[0m\u001b[0;34m(\u001b[0m\u001b[0;34m)\u001b[0m\u001b[0;34m\u001b[0m\u001b[0;34m\u001b[0m\u001b[0m\n\u001b[0m\u001b[1;32m   1140\u001b[0m         \u001b[0;32mfinally\u001b[0m\u001b[0;34m:\u001b[0m\u001b[0;34m\u001b[0m\u001b[0;34m\u001b[0m\u001b[0m\n\u001b[1;32m   1141\u001b[0m             \u001b[0mself\u001b[0m\u001b[0;34m.\u001b[0m\u001b[0msettimeout\u001b[0m\u001b[0;34m(\u001b[0m\u001b[0mtimeout\u001b[0m\u001b[0;34m)\u001b[0m\u001b[0;34m\u001b[0m\u001b[0;34m\u001b[0m\u001b[0m\n",
            "\u001b[0;31mKeyboardInterrupt\u001b[0m: "
          ]
        }
      ]
    },
    {
      "cell_type": "code",
      "source": [
        "# List of all abilites for all pokemon in every generation.\n",
        "ability_1 = gen1_abilities[0] + gen2_abilities[0] + gen3_abilities[0] + gen4_abilities[0] + gen5_abilities[0] + gen6_abilities[0] + gen7_abilities[0] + gen8_abilities[0]\n",
        "ability_2 = gen1_abilities[1] + gen2_abilities[1] + gen3_abilities[1] + gen4_abilities[1] + gen5_abilities[1] + gen6_abilities[1] + gen7_abilities[1] + gen8_abilities[1]\n",
        "hidden_ability = gen1_abilities[2] + gen2_abilities[2] + gen3_abilities[2] + gen4_abilities[2] + gen5_abilities[2] + gen6_abilities[2] + gen7_abilities[2] + gen8_abilities[2]"
      ],
      "metadata": {
        "id": "Oj9s3g_XrOuo"
      },
      "execution_count": null,
      "outputs": []
    },
    {
      "cell_type": "markdown",
      "source": [
        "##### Locating Pokemon types information."
      ],
      "metadata": {
        "id": "uiYpG5x_kKHD"
      }
    },
    {
      "cell_type": "code",
      "source": [
        "# Enter Pokemon generation, get back ordered lists of all the pokemon's types for that generation.\n",
        "def type_list_generator(generation):\n",
        "  type_1 = []\n",
        "  type_2 = []\n",
        "  for i in pokemon_gen_range(generation):\n",
        "    pokemon_number = i\n",
        "    type_dict_length = len(api_response(f'pokemon/{pokemon_number}/')['types'])\n",
        "    type_1.append(api_response(f'pokemon/{pokemon_number}/')['types'][0]['type']['name'])\n",
        "    if type_dict_length == 1:\n",
        "      type_2.append(0)\n",
        "    elif type_dict_length == 2:\n",
        "      type_2.append(api_response(f'pokemon/{pokemon_number}/')['types'][1]['type']['name'])\n",
        "  return type_1, type_2"
      ],
      "metadata": {
        "id": "f-86sDO9USvE"
      },
      "execution_count": null,
      "outputs": []
    },
    {
      "cell_type": "markdown",
      "source": [
        "##### Request Pokemon types. (run once)"
      ],
      "metadata": {
        "id": "wdHs-m-skTKZ"
      }
    },
    {
      "cell_type": "code",
      "source": [
        "# Using our previous function to make types lists for every pokemon in every generation seperately.\n",
        "gen1_types = type_list_generator(1)\n",
        "gen2_types = type_list_generator(2)\n",
        "gen3_types = type_list_generator(3)\n",
        "gen4_types = type_list_generator(4)\n",
        "gen5_types = type_list_generator(5)\n",
        "gen6_types = type_list_generator(6)\n",
        "gen7_types = type_list_generator(7)\n",
        "gen8_types = type_list_generator(8)"
      ],
      "metadata": {
        "id": "bC_hhQ9utvjB"
      },
      "execution_count": null,
      "outputs": []
    },
    {
      "cell_type": "code",
      "source": [
        "# List of all pokemon types for all pokemon in every generation.\n",
        "type_1 = gen1_types[0] + gen2_types[0] + gen3_types[0] + gen4_types[0] + gen5_types[0] + gen6_types[0] + gen7_types[0] + gen8_types[0]\n",
        "type_2 = gen1_types[1] + gen2_types[1] + gen3_types[1] + gen4_types[1] + gen5_types[1] + gen6_types[1] + gen7_types[1] + gen8_types[1]"
      ],
      "metadata": {
        "id": "QWOxfjmBt5Wv"
      },
      "execution_count": null,
      "outputs": []
    },
    {
      "cell_type": "markdown",
      "source": [
        "##### Locating Pokemon stats information."
      ],
      "metadata": {
        "id": "5l7DOl8omHp2"
      }
    },
    {
      "cell_type": "code",
      "source": [
        "# Enter a stat index and pokemon generation, and get back a list of that stats values for all pokemon in that generation\n",
        "# Stat index: HP ==> 0, Attack ==> 1, Defense ==> 2, Special Attack ==> 3, Special Defense ==> 4, Speed ==> 5\n",
        "def stat_list_generator(stat_index, generation):\n",
        "  temp_list = []\n",
        "  for i in pokemon_gen_range(generation):\n",
        "    pokemon_number = i\n",
        "    temp_data = api_response(f'pokemon/{pokemon_number}/')\n",
        "    temp_list.append(temp_data['stats'][stat_index]['base_stat'])\n",
        "  return temp_list"
      ],
      "metadata": {
        "id": "JT0hdteDf_Nf"
      },
      "execution_count": null,
      "outputs": []
    },
    {
      "cell_type": "markdown",
      "source": [
        "##### Request HP information. (run once)"
      ],
      "metadata": {
        "id": "0o7pSOHxnr3_"
      }
    },
    {
      "cell_type": "code",
      "source": [
        "# Using a previous function to make HP lists for every pokemon in every generation seperately.\n",
        "gen1_HP_list = stat_list_generator(0, 1)\n",
        "gen2_HP_list = stat_list_generator(0, 2)\n",
        "gen3_HP_list = stat_list_generator(0, 3)\n",
        "gen4_HP_list = stat_list_generator(0, 4)\n",
        "gen5_HP_list = stat_list_generator(0, 5)\n",
        "gen6_HP_list = stat_list_generator(0, 6)\n",
        "gen7_HP_list = stat_list_generator(0, 7)\n",
        "gen8_HP_list = stat_list_generator(0, 8)"
      ],
      "metadata": {
        "id": "_qgmEPC4lMN3"
      },
      "execution_count": null,
      "outputs": []
    },
    {
      "cell_type": "code",
      "source": [
        "# List of HP values for all pokemon in every generation.\n",
        "HP_list = gen1_HP_list + gen2_HP_list + gen3_HP_list + gen4_HP_list + gen5_HP_list + gen6_HP_list + gen7_HP_list + gen8_HP_list"
      ],
      "metadata": {
        "id": "3EXsyUWazh5x"
      },
      "execution_count": null,
      "outputs": []
    },
    {
      "cell_type": "markdown",
      "source": [
        "##### Request Attack information. (run once)"
      ],
      "metadata": {
        "id": "0Nwg8m8toAzY"
      }
    },
    {
      "cell_type": "code",
      "source": [
        "# Using a previous function to make Attack lists for every pokemon in every generation seperately.\n",
        "gen1_atk_list = stat_list_generator(1, 1)\n",
        "gen2_atk_list = stat_list_generator(1, 2)\n",
        "gen3_atk_list = stat_list_generator(1, 3)\n",
        "gen4_atk_list = stat_list_generator(1, 4)\n",
        "gen5_atk_list = stat_list_generator(1, 5)\n",
        "gen6_atk_list = stat_list_generator(1, 6)\n",
        "gen7_atk_list = stat_list_generator(1, 7)\n",
        "gen8_atk_list = stat_list_generator(1, 8)"
      ],
      "metadata": {
        "id": "z-6XACqAlrxY"
      },
      "execution_count": null,
      "outputs": []
    },
    {
      "cell_type": "code",
      "source": [
        "# List of Attack values for all pokemon in every generation.\n",
        "atk_list = gen1_atk_list + gen2_atk_list + gen3_atk_list + gen4_atk_list + gen5_atk_list + gen6_atk_list + gen7_atk_list + gen8_atk_list"
      ],
      "metadata": {
        "id": "ikC0ip920tUu"
      },
      "execution_count": null,
      "outputs": []
    },
    {
      "cell_type": "markdown",
      "source": [
        "##### Request Defense information. (run once)"
      ],
      "metadata": {
        "id": "-4AijHG8oVSp"
      }
    },
    {
      "cell_type": "code",
      "source": [
        "# Using a previous function to make Defense lists for every pokemon in every generation seperately.\n",
        "gen1_dfns_list = stat_list_generator(2, 1)\n",
        "gen2_dfns_list = stat_list_generator(2, 2)\n",
        "gen3_dfns_list = stat_list_generator(2, 3)\n",
        "gen4_dfns_list = stat_list_generator(2, 4)\n",
        "gen5_dfns_list = stat_list_generator(2, 5)\n",
        "gen6_dfns_list = stat_list_generator(2, 6)\n",
        "gen7_dfns_list = stat_list_generator(2, 7)\n",
        "gen8_dfns_list = stat_list_generator(2, 8)"
      ],
      "metadata": {
        "id": "c7An82lBl_tL"
      },
      "execution_count": null,
      "outputs": []
    },
    {
      "cell_type": "code",
      "source": [
        "# List of Defense values for all pokemon in every generation.\n",
        "dfns_list = gen1_dfns_list + gen2_dfns_list + gen3_dfns_list + gen4_dfns_list + gen5_dfns_list + gen6_dfns_list + gen7_dfns_list + gen8_dfns_list"
      ],
      "metadata": {
        "id": "oER06Md72EWI"
      },
      "execution_count": null,
      "outputs": []
    },
    {
      "cell_type": "markdown",
      "source": [
        "##### Request Special Attack information. (run once)"
      ],
      "metadata": {
        "id": "mg2nKt_KodfJ"
      }
    },
    {
      "cell_type": "code",
      "source": [
        "# Using a previous function to make Special Attack lists for every pokemon in every generation seperately.\n",
        "gen1_spa_list = stat_list_generator(3, 1)\n",
        "gen2_spa_list = stat_list_generator(3, 2)\n",
        "gen3_spa_list = stat_list_generator(3, 3)\n",
        "gen4_spa_list = stat_list_generator(3, 4)\n",
        "gen5_spa_list = stat_list_generator(3, 5)\n",
        "gen6_spa_list = stat_list_generator(3, 6)\n",
        "gen7_spa_list = stat_list_generator(3, 7)\n",
        "gen8_spa_list = stat_list_generator(3, 8)"
      ],
      "metadata": {
        "id": "Ci2TePprmM6z"
      },
      "execution_count": null,
      "outputs": []
    },
    {
      "cell_type": "code",
      "source": [
        "# List of Special Attack values for all pokemon in every generation.\n",
        "spa_list = gen1_spa_list + gen2_spa_list + gen3_spa_list + gen4_spa_list + gen5_spa_list + gen6_spa_list + gen7_spa_list + gen8_spa_list"
      ],
      "metadata": {
        "id": "F-2eZuSp2hYa"
      },
      "execution_count": null,
      "outputs": []
    },
    {
      "cell_type": "markdown",
      "source": [
        "##### Request Special Defense information. (run once)"
      ],
      "metadata": {
        "id": "sB8E5UMDoh0C"
      }
    },
    {
      "cell_type": "code",
      "source": [
        "# Using a previous function to make Special Defense lists for every pokemon in every generation seperately.\n",
        "gen1_spdf_list = stat_list_generator(4, 1)\n",
        "gen2_spdf_list = stat_list_generator(4, 2)\n",
        "gen3_spdf_list = stat_list_generator(4, 3)\n",
        "gen4_spdf_list = stat_list_generator(4, 4)\n",
        "gen5_spdf_list = stat_list_generator(4, 5)\n",
        "gen6_spdf_list = stat_list_generator(4, 6)\n",
        "gen7_spdf_list = stat_list_generator(4, 7)\n",
        "gen8_spdf_list = stat_list_generator(4, 8)"
      ],
      "metadata": {
        "id": "_LKRFUyymTyw"
      },
      "execution_count": null,
      "outputs": []
    },
    {
      "cell_type": "code",
      "source": [
        "# List of HP values for all pokemon in every generation.\n",
        "spdf_list = gen1_spdf_list + gen2_spdf_list + gen3_spdf_list + gen4_spdf_list + gen5_spdf_list + gen6_spdf_list + gen7_spdf_list + gen8_spdf_list"
      ],
      "metadata": {
        "id": "UCDrRDno28-8"
      },
      "execution_count": null,
      "outputs": []
    },
    {
      "cell_type": "markdown",
      "source": [
        "##### Request Speed information. (run once)"
      ],
      "metadata": {
        "id": "PuJg2f_8oj1D"
      }
    },
    {
      "cell_type": "code",
      "source": [
        "# Using a previous function to make Speed lists for every pokemon in every generation seperately.\n",
        "gen1_speed_list = stat_list_generator(5, 1)\n",
        "gen2_speed_list = stat_list_generator(5, 2)\n",
        "gen3_speed_list = stat_list_generator(5, 3)\n",
        "gen4_speed_list = stat_list_generator(5, 4)\n",
        "gen5_speed_list = stat_list_generator(5, 5)\n",
        "gen6_speed_list = stat_list_generator(5, 6)\n",
        "gen7_speed_list = stat_list_generator(5, 7)\n",
        "gen8_speed_list = stat_list_generator(5, 8)"
      ],
      "metadata": {
        "id": "yjOsJc5emcID"
      },
      "execution_count": null,
      "outputs": []
    },
    {
      "cell_type": "code",
      "source": [
        "# List of Speed values for all pokemon in every generation.\n",
        "speed_list = gen1_speed_list+ gen2_speed_list+ gen3_speed_list+ gen4_speed_list+ gen5_speed_list+ gen6_speed_list+ gen7_speed_list+ gen8_speed_list"
      ],
      "metadata": {
        "id": "axktEDGf3bRc"
      },
      "execution_count": null,
      "outputs": []
    },
    {
      "cell_type": "markdown",
      "source": [
        "##### Request Legendary and Mythical pokemon information. (run once)"
      ],
      "metadata": {
        "id": "pNY69riyr6ql"
      }
    },
    {
      "cell_type": "code",
      "source": [
        "# Using a previous function to make legendary boolean lists for every pokemon in every generation seperately.\n",
        "gen1_legendary_list = list_generator('pokemon-species', 'is_legendary', 1)\n",
        "gen2_legendary_list = list_generator('pokemon-species', 'is_legendary', 2)\n",
        "gen3_legendary_list = list_generator('pokemon-species', 'is_legendary', 3)\n",
        "gen4_legendary_list = list_generator('pokemon-species', 'is_legendary', 4)\n",
        "gen5_legendary_list = list_generator('pokemon-species', 'is_legendary', 5)\n",
        "gen6_legendary_list = list_generator('pokemon-species', 'is_legendary', 6)\n",
        "gen7_legendary_list = list_generator('pokemon-species', 'is_legendary', 7)\n",
        "gen8_legendary_list = list_generator('pokemon-species', 'is_legendary', 8)\n",
        "\n",
        "# Using a previous function to make mythical boolean lists for every pokemon in every generation seperately.\n",
        "gen1_mythical_list = list_generator('pokemon-species', 'is_mythical', 1)\n",
        "gen2_mythical_list = list_generator('pokemon-species', 'is_mythical', 2)\n",
        "gen3_mythical_list = list_generator('pokemon-species', 'is_mythical', 3)\n",
        "gen4_mythical_list = list_generator('pokemon-species', 'is_mythical', 4)\n",
        "gen5_mythical_list = list_generator('pokemon-species', 'is_mythical', 5)\n",
        "gen6_mythical_list = list_generator('pokemon-species', 'is_mythical', 6)\n",
        "gen7_mythical_list = list_generator('pokemon-species', 'is_mythical', 7)\n",
        "gen8_mythical_list = list_generator('pokemon-species', 'is_mythical', 8)"
      ],
      "metadata": {
        "id": "PuaYB-xV7yT3"
      },
      "execution_count": null,
      "outputs": []
    },
    {
      "cell_type": "code",
      "source": [
        "legendary_list = gen1_legendary_list + gen2_legendary_list + gen3_legendary_list + gen4_legendary_list + gen5_legendary_list + gen6_legendary_list + gen7_legendary_list + gen8_legendary_list\n",
        "mythical_list = gen1_mythical_list + gen2_mythical_list + gen3_mythical_list + gen4_mythical_list + gen5_mythical_list + gen6_mythical_list + gen7_mythical_list + gen8_mythical_list"
      ],
      "metadata": {
        "id": "IjiMixqJ4FhC"
      },
      "execution_count": null,
      "outputs": []
    },
    {
      "cell_type": "markdown",
      "source": [
        "### **Step 3: Transforming, cleaning, organizing, and exporting dataset to CSV.**"
      ],
      "metadata": {
        "id": "L066-3qnuZYG"
      }
    },
    {
      "cell_type": "code",
      "source": [
        "# Turns all previously gathered lists of information into a dictionary then a dataframe\n",
        "dataframe_dict = {\n",
        "    'ID': list(range(1,899)),\n",
        "    'Name': poke_names,\n",
        "    'Type 1': type_1,\n",
        "    'Type 2': type_2,\n",
        "    'Ability 1': ability_1,\n",
        "    'Ability 2': ability_2,\n",
        "    'Hidden Ability': hidden_ability,\n",
        "    'HP': HP_list,\n",
        "    'Attack': atk_list,\n",
        "    'Defense': dfns_list,\n",
        "    'Special Attack': spa_list,\n",
        "    'Special Defense': spdf_list,\n",
        "    'Speed': speed_list,\n",
        "    'Legendary': legendary_list,\n",
        "    'Mythical': mythical_list\n",
        "}\n",
        "pokemon_df = pd.DataFrame(dataframe_dict)\n",
        "\n",
        "# Making Psuedo-Legendary Column\n",
        "pokemon_df['base_stat_total'] = pokemon_df.iloc[:, 7:14].sum(axis=1)\n",
        "pokemon_df.loc[(pokemon_df['base_stat_total'] == 600) & (pokemon_df['Legendary'] == False) & (pokemon_df['Mythical'] == False), 'Psuedo-Legendary'] = True\n",
        "pokemon_df['Psuedo-Legendary'] = pokemon_df['Psuedo-Legendary'].notna()\n",
        "pokemon_df = pokemon_df.drop(columns=['base_stat_total'])\n",
        "\n",
        "# Replacing zero's with Nan values\n",
        "cols = ['Type 2', 'Ability 2', 'Hidden Ability']\n",
        "pokemon_df[cols] = pokemon_df[cols].replace(0, np.nan)\n",
        "\n",
        "# Exporting dataset to CSV\n",
        "# pokemon_df.to_csv('pokemon-data.csv')"
      ],
      "metadata": {
        "colab": {
          "base_uri": "https://localhost:8080/"
        },
        "id": "rrDItly5eWcF",
        "outputId": "21241e59-e466-4750-b861-a4bf6b89cb87"
      },
      "execution_count": null,
      "outputs": [
        {
          "output_type": "stream",
          "name": "stdout",
          "text": [
            "ID                   int64\n",
            "Name                object\n",
            "Type 1              object\n",
            "Type 2              object\n",
            "Ability 1           object\n",
            "Ability 2           object\n",
            "Hidden Ability      object\n",
            "HP                   int64\n",
            "Attack               int64\n",
            "Defense              int64\n",
            "Special Attack       int64\n",
            "Special Defense      int64\n",
            "Speed                int64\n",
            "Legendary             bool\n",
            "Mythical              bool\n",
            "Psuedo-Legendary      bool\n",
            "dtype: object\n"
          ]
        }
      ]
    },
    {
      "cell_type": "code",
      "source": [
        "# exporting to excel so i don't have to bother the api again\n",
        "pokemon_df.to_csv('Pokemon Data.csv')"
      ],
      "metadata": {
        "id": "kvlcVOU4BQUM"
      },
      "execution_count": null,
      "outputs": []
    }
  ]
}